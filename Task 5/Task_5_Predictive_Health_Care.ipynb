{
 "cells": [
  {
   "cell_type": "markdown",
   "metadata": {},
   "source": [
    "<h3>Task 5 - Predictive Health Care</h3>\n",
    "Comparing adverse effects of pain medicaments\n",
    "\n",
    "<h3>Task Overview</h3>\n",
    "\n",
    "<b>What you'll learn</b>\n",
    " - How to analyze adverse drug effects using provided data.\n",
    "\n",
    "<b>What you'll do</b>\n",
    " - Analyze 2019 FAERS data to find the top 10 Tramal adverse effects.\n",
    " - Compare Tramal and Lyrica's adverse effects.\n",
    " - Suggest further investigations based on dataset findings.\n",
    "\n",
    "<h3>Here is your task:</h3>\n",
    "\n",
    "<b>Jakob asks you to create a PowerPoint slide deck while tackling the following steps. Use screenshots and diagrams to illustrate your findings as well.</b>\n",
    "\n",
    "<b>Step 1</b>\n",
    "\n",
    "Create a descriptive overview of adverse effects of tramal based on the available FAERS datasets, which you’ll find in your resource section. For your analysis, only use the FAERS data from the year 2019.\n",
    "\n",
    "Show the 10 most common adverse effects as they are reported in the FAERS database. Jakob loves bar plots, so would be great if you use one.\n",
    "\n",
    "<b>Step 2</b>\n",
    "\n",
    "Compare tramal to another medication called lyrica that is also commonly used to treat neurological pain. Are the adverse effects similar?\n",
    "\n",
    "Use Rscript to solve the task and make sure using it in your presentation.\n",
    "\n",
    "</b>Step 3</b>\n",
    "\n",
    "Define what further investigations might be helpful in determining whether a certain drug might be more preferable over another drug. Base your solution on the results of your dataset work."
   ]
  },
  {
   "cell_type": "code",
   "execution_count": 3,
   "metadata": {},
   "outputs": [],
   "source": [
    "# import required libraries\n",
    "import numpy as np\n",
    "import pandas as pd\n",
    "import matplotlib.pyplot as plt\n",
    "%matplotlib inline\n",
    "import seaborn as sns"
   ]
  },
  {
   "cell_type": "code",
   "execution_count": 4,
   "metadata": {},
   "outputs": [],
   "source": [
    "# read the dataset (Quarter 1)\n",
    "DEMO19Q1 = pd.read_csv(\"E:\\iNeuron\\Dataset\\Q1\\DEMO19Q1.txt\", delimiter=\"$\", low_memory=False)\n",
    "DRUG19Q1 = pd.read_csv(\"E:\\iNeuron\\Dataset\\Q1\\DRUG19Q1.txt\", delimiter=\"$\", low_memory=False)\n",
    "REAC19Q1 = pd.read_csv(\"E:\\iNeuron\\Dataset\\Q1\\REAC19Q1.txt\", delimiter=\"$\", low_memory=False)"
   ]
  },
  {
   "cell_type": "code",
   "execution_count": 5,
   "metadata": {},
   "outputs": [],
   "source": [
    "# select columns necessary for our analysis\n",
    "DEMO19Q1 = DEMO19Q1[[\"primaryid\", \"caseid\", \"age\", \"sex\"]]\n",
    "DRUG19Q1 = DRUG19Q1[[\"primaryid\", \"caseid\", \"drugname\"]]\n",
    "REAC19Q1 = REAC19Q1[[\"primaryid\", \"caseid\", \"pt\"]]"
   ]
  },
  {
   "cell_type": "code",
   "execution_count": 6,
   "metadata": {},
   "outputs": [],
   "source": [
    "# create a function to clean the data\n",
    "def primary_clean(data):\n",
    "    data = data.drop_duplicates()\n",
    "    data = data.dropna()\n",
    "    print(data.shape)\n",
    "    print(data.isnull().sum())\n",
    "    print(data.duplicated().sum())\n",
    "    return data"
   ]
  },
  {
   "cell_type": "code",
   "execution_count": 7,
   "metadata": {},
   "outputs": [
    {
     "name": "stdout",
     "output_type": "stream",
     "text": [
      "(226536, 4)\n",
      "primaryid    0\n",
      "caseid       0\n",
      "age          0\n",
      "sex          0\n",
      "dtype: int64\n",
      "0\n"
     ]
    }
   ],
   "source": [
    "# clean each dataset\n",
    "DEMO19Q1 = primary_clean(DEMO19Q1)"
   ]
  },
  {
   "cell_type": "code",
   "execution_count": 8,
   "metadata": {},
   "outputs": [
    {
     "name": "stdout",
     "output_type": "stream",
     "text": [
      "(1381706, 3)\n",
      "primaryid    0\n",
      "caseid       0\n",
      "drugname     0\n",
      "dtype: int64\n",
      "0\n"
     ]
    }
   ],
   "source": [
    "# clean each dataset\n",
    "DRUG19Q1 = primary_clean(DRUG19Q1)"
   ]
  },
  {
   "cell_type": "code",
   "execution_count": 9,
   "metadata": {},
   "outputs": [
    {
     "name": "stdout",
     "output_type": "stream",
     "text": [
      "(1303521, 3)\n",
      "primaryid    0\n",
      "caseid       0\n",
      "pt           0\n",
      "dtype: int64\n",
      "0\n"
     ]
    }
   ],
   "source": [
    "# clean each dataset\n",
    "REAC19Q1 = primary_clean(REAC19Q1)"
   ]
  },
  {
   "cell_type": "code",
   "execution_count": 10,
   "metadata": {},
   "outputs": [],
   "source": [
    "# create a function to merge and clean dataset\n",
    "def merge_data(data1, data2, data3):\n",
    "    data = pd.merge(left=data1, right=data2, how=\"left\", on=[\"primaryid\", \"caseid\"])\n",
    "    final = pd.merge(left=data, right=data3, how=\"left\", on=[\"primaryid\", \"caseid\"])\n",
    "    final = final.drop_duplicates()\n",
    "    final = final.dropna()\n",
    "    print(final.shape)\n",
    "    print(final.isnull().sum())\n",
    "    print(final.duplicated().sum())\n",
    "    final[\"drugname\"] = final[\"drugname\"].replace(to_replace=\"GABAPENTIN.\", value=\"GABAPENTIN\")\n",
    "    final = final[(final['drugname']==\"GABAPENTIN\") | (final['drugname']==\"LYRICA\") | (final['drugname']==\"TRAMAL\")]\n",
    "    final = final.reset_index(drop=\"index\")\n",
    "    print(final.shape)\n",
    "    return final"
   ]
  },
  {
   "cell_type": "code",
   "execution_count": 11,
   "metadata": {},
   "outputs": [
    {
     "name": "stdout",
     "output_type": "stream",
     "text": [
      "(4407726, 6)\n",
      "primaryid    0\n",
      "caseid       0\n",
      "age          0\n",
      "sex          0\n",
      "drugname     0\n",
      "pt           0\n",
      "dtype: int64\n",
      "0\n",
      "(50134, 6)\n"
     ]
    }
   ],
   "source": [
    "# merge and clean\n",
    "Quarter1 = merge_data(DEMO19Q1, DRUG19Q1, REAC19Q1)"
   ]
  },
  {
   "cell_type": "code",
   "execution_count": 12,
   "metadata": {},
   "outputs": [],
   "source": [
    "# read the dataset (Quarter 2)\n",
    "DEMO19Q2 = pd.read_csv(\"E:\\iNeuron\\Dataset\\Q2\\DEMO19Q2.txt\", delimiter=\"$\", low_memory=False)\n",
    "DRUG19Q2 = pd.read_csv(\"E:\\iNeuron\\Dataset\\Q2\\DRUG19Q2.txt\", delimiter=\"$\", low_memory=False)\n",
    "REAC19Q2 = pd.read_csv(\"E:\\iNeuron\\Dataset\\Q2\\REAC19Q2.txt\", delimiter=\"$\", low_memory=False)"
   ]
  },
  {
   "cell_type": "code",
   "execution_count": 13,
   "metadata": {},
   "outputs": [],
   "source": [
    "# select columns necessary for our analysis\n",
    "DEMO19Q2 = DEMO19Q2[[\"primaryid\", \"caseid\", \"age\", \"sex\"]]\n",
    "DRUG19Q2 = DRUG19Q2[[\"primaryid\", \"caseid\", \"drugname\"]]\n",
    "REAC19Q2 = REAC19Q2[[\"primaryid\", \"caseid\", \"pt\"]]"
   ]
  },
  {
   "cell_type": "code",
   "execution_count": 14,
   "metadata": {},
   "outputs": [
    {
     "name": "stdout",
     "output_type": "stream",
     "text": [
      "(241381, 4)\n",
      "primaryid    0\n",
      "caseid       0\n",
      "age          0\n",
      "sex          0\n",
      "dtype: int64\n",
      "0\n"
     ]
    }
   ],
   "source": [
    "# clean each dataset\n",
    "DEMO19Q2 = primary_clean(DEMO19Q2)"
   ]
  },
  {
   "cell_type": "code",
   "execution_count": 15,
   "metadata": {},
   "outputs": [
    {
     "name": "stdout",
     "output_type": "stream",
     "text": [
      "(1551080, 3)\n",
      "primaryid    0\n",
      "caseid       0\n",
      "drugname     0\n",
      "dtype: int64\n",
      "0\n"
     ]
    }
   ],
   "source": [
    "# clean each dataset\n",
    "DRUG19Q2 = primary_clean(DRUG19Q2)"
   ]
  },
  {
   "cell_type": "code",
   "execution_count": 16,
   "metadata": {},
   "outputs": [
    {
     "name": "stdout",
     "output_type": "stream",
     "text": [
      "(1408475, 3)\n",
      "primaryid    0\n",
      "caseid       0\n",
      "pt           0\n",
      "dtype: int64\n",
      "0\n"
     ]
    }
   ],
   "source": [
    "# clean each dataset\n",
    "REAC19Q2 = primary_clean(REAC19Q2)"
   ]
  },
  {
   "cell_type": "code",
   "execution_count": 17,
   "metadata": {},
   "outputs": [
    {
     "name": "stdout",
     "output_type": "stream",
     "text": [
      "(4892508, 6)\n",
      "primaryid    0\n",
      "caseid       0\n",
      "age          0\n",
      "sex          0\n",
      "drugname     0\n",
      "pt           0\n",
      "dtype: int64\n",
      "0\n",
      "(59589, 6)\n"
     ]
    }
   ],
   "source": [
    "# merge and clean\n",
    "Quarter2 = merge_data(DEMO19Q2, DRUG19Q2, REAC19Q2)"
   ]
  },
  {
   "cell_type": "code",
   "execution_count": 18,
   "metadata": {},
   "outputs": [],
   "source": [
    "# read the dataset (Quarter 3)\n",
    "DEMO19Q3 = pd.read_csv(\"E:\\iNeuron\\Dataset\\Q3\\DEMO19Q3.txt\", delimiter=\"$\", low_memory=False)\n",
    "REAC19Q3 = pd.read_csv(\"E:\\iNeuron\\Dataset\\Q3\\REAC19Q3.txt\", delimiter=\"$\", low_memory=False)\n",
    "DRUG19Q3 = pd.read_csv(\"E:\\iNeuron\\Dataset\\Q3\\DRUG19Q3.txt\", delimiter=\"$\", low_memory=False, encoding_errors='ignore')"
   ]
  },
  {
   "cell_type": "code",
   "execution_count": 19,
   "metadata": {},
   "outputs": [],
   "source": [
    "# select columns necessary for our analysis\n",
    "DEMO19Q3 = DEMO19Q3[[\"primaryid\", \"caseid\", \"age\", \"sex\"]]\n",
    "DRUG19Q3 = DRUG19Q3[[\"primaryid\", \"caseid\", \"drugname\"]]\n",
    "REAC19Q3 = REAC19Q3[[\"primaryid\", \"caseid\", \"pt\"]]"
   ]
  },
  {
   "cell_type": "code",
   "execution_count": 20,
   "metadata": {},
   "outputs": [
    {
     "name": "stdout",
     "output_type": "stream",
     "text": [
      "(253952, 4)\n",
      "primaryid    0\n",
      "caseid       0\n",
      "age          0\n",
      "sex          0\n",
      "dtype: int64\n",
      "0\n"
     ]
    }
   ],
   "source": [
    "# clean each dataset\n",
    "DEMO19Q3 = primary_clean(DEMO19Q3)"
   ]
  },
  {
   "cell_type": "code",
   "execution_count": 21,
   "metadata": {},
   "outputs": [
    {
     "name": "stdout",
     "output_type": "stream",
     "text": [
      "(1651755, 3)\n",
      "primaryid    0\n",
      "caseid       0\n",
      "drugname     0\n",
      "dtype: int64\n",
      "0\n"
     ]
    }
   ],
   "source": [
    "# clean each dataset\n",
    "DRUG19Q3 = primary_clean(DRUG19Q3)"
   ]
  },
  {
   "cell_type": "code",
   "execution_count": 22,
   "metadata": {},
   "outputs": [
    {
     "name": "stdout",
     "output_type": "stream",
     "text": [
      "(1504784, 3)\n",
      "primaryid    0\n",
      "caseid       0\n",
      "pt           0\n",
      "dtype: int64\n",
      "0\n"
     ]
    }
   ],
   "source": [
    "# clean each dataset\n",
    "REAC19Q3 = primary_clean(REAC19Q3)"
   ]
  },
  {
   "cell_type": "code",
   "execution_count": 23,
   "metadata": {},
   "outputs": [
    {
     "name": "stdout",
     "output_type": "stream",
     "text": [
      "(5540978, 6)\n",
      "primaryid    0\n",
      "caseid       0\n",
      "age          0\n",
      "sex          0\n",
      "drugname     0\n",
      "pt           0\n",
      "dtype: int64\n",
      "0\n",
      "(62882, 6)\n"
     ]
    }
   ],
   "source": [
    "# merge and clean\n",
    "Quarter3 = merge_data(DEMO19Q3, DRUG19Q3, REAC19Q3)"
   ]
  },
  {
   "cell_type": "code",
   "execution_count": 24,
   "metadata": {},
   "outputs": [],
   "source": [
    "# read the dataset (Quarter 4)\n",
    "DEMO19Q4 = pd.read_csv(\"E:\\iNeuron\\Dataset\\Q4\\DEMO19Q4.txt\", delimiter=\"$\", low_memory=False)\n",
    "REAC19Q4 = pd.read_csv(\"E:\\iNeuron\\Dataset\\Q4\\REAC19Q4.txt\", delimiter=\"$\", low_memory=False)\n",
    "DRUG19Q4 = pd.read_csv(\"E:\\iNeuron\\Dataset\\Q4\\DRUG19Q4.txt\", delimiter=\"$\", low_memory=False)"
   ]
  },
  {
   "cell_type": "code",
   "execution_count": 25,
   "metadata": {},
   "outputs": [],
   "source": [
    "# select columns necessary for our analysis\n",
    "DEMO19Q4 = DEMO19Q4[[\"primaryid\", \"caseid\", \"age\", \"sex\"]]\n",
    "DRUG19Q4 = DRUG19Q4[[\"primaryid\", \"caseid\", \"drugname\"]]\n",
    "REAC19Q4 = REAC19Q4[[\"primaryid\", \"caseid\", \"pt\"]]"
   ]
  },
  {
   "cell_type": "code",
   "execution_count": 26,
   "metadata": {},
   "outputs": [
    {
     "name": "stdout",
     "output_type": "stream",
     "text": [
      "(245213, 4)\n",
      "primaryid    0\n",
      "caseid       0\n",
      "age          0\n",
      "sex          0\n",
      "dtype: int64\n",
      "0\n"
     ]
    }
   ],
   "source": [
    "# clean each dataset\n",
    "DEMO19Q4 = primary_clean(DEMO19Q4)"
   ]
  },
  {
   "cell_type": "code",
   "execution_count": 27,
   "metadata": {},
   "outputs": [
    {
     "name": "stdout",
     "output_type": "stream",
     "text": [
      "(1417965, 3)\n",
      "primaryid    0\n",
      "caseid       0\n",
      "drugname     0\n",
      "dtype: int64\n",
      "0\n"
     ]
    }
   ],
   "source": [
    "# clean each dataset\n",
    "DRUG19Q4 = primary_clean(DRUG19Q4)"
   ]
  },
  {
   "cell_type": "code",
   "execution_count": 28,
   "metadata": {},
   "outputs": [
    {
     "name": "stdout",
     "output_type": "stream",
     "text": [
      "(1359912, 3)\n",
      "primaryid    0\n",
      "caseid       0\n",
      "pt           0\n",
      "dtype: int64\n",
      "0\n"
     ]
    }
   ],
   "source": [
    "# clean each dataset\n",
    "REAC19Q4 = primary_clean(REAC19Q4)"
   ]
  },
  {
   "cell_type": "code",
   "execution_count": 29,
   "metadata": {},
   "outputs": [
    {
     "name": "stdout",
     "output_type": "stream",
     "text": [
      "(4879124, 6)\n",
      "primaryid    0\n",
      "caseid       0\n",
      "age          0\n",
      "sex          0\n",
      "drugname     0\n",
      "pt           0\n",
      "dtype: int64\n",
      "0\n",
      "(53822, 6)\n"
     ]
    }
   ],
   "source": [
    "# merge and clean\n",
    "Quarter4 = merge_data(DEMO19Q4, DRUG19Q4, REAC19Q4)"
   ]
  },
  {
   "cell_type": "code",
   "execution_count": 30,
   "metadata": {},
   "outputs": [
    {
     "name": "stdout",
     "output_type": "stream",
     "text": [
      "primaryid    0\n",
      "caseid       0\n",
      "age          0\n",
      "sex          0\n",
      "drugname     0\n",
      "pt           0\n",
      "dtype: int64\n",
      "0\n"
     ]
    },
    {
     "data": {
      "text/plain": [
       "(226427, 6)"
      ]
     },
     "execution_count": 30,
     "metadata": {},
     "output_type": "execute_result"
    }
   ],
   "source": [
    "# concatenate all Quarter data into one for our analysis\n",
    "final_data = pd.concat([Quarter1, Quarter2, Quarter3, Quarter4], ignore_index=True)\n",
    "\n",
    "# check null/missing values\n",
    "print(final_data.isnull().sum())\n",
    "\n",
    "# check any duplicate records\n",
    "print(final_data.duplicated().sum())\n",
    "\n",
    "# check the dimension of data\n",
    "final_data.shape"
   ]
  },
  {
   "cell_type": "code",
   "execution_count": 31,
   "metadata": {},
   "outputs": [],
   "source": [
    "# save the dataset as excel and csv files for further use in PowerBI/Tableau\n",
    "# final_data.to_csv(\"final_data.csv\", index=False)\n",
    "# final_data.to_excel(\"final_data.xlsx\", index=False)"
   ]
  },
  {
   "cell_type": "markdown",
   "metadata": {},
   "source": [
    "In the above steps, we read the datasets from each quarter, selected columns necessary for our analysis, performed data cleaning, selected data specific to the drugs mentioned in the problem statement, then we concatenated all the quarters into one to create a final data which is saved as csv and excel files for further analysis."
   ]
  },
  {
   "cell_type": "markdown",
   "metadata": {},
   "source": [
    "<h3>Descriptive Statistics</h3>"
   ]
  },
  {
   "cell_type": "code",
   "execution_count": 32,
   "metadata": {},
   "outputs": [],
   "source": [
    "faers_data = pd.read_csv(\"final_data.csv\")"
   ]
  },
  {
   "cell_type": "code",
   "execution_count": 33,
   "metadata": {},
   "outputs": [
    {
     "data": {
      "text/html": [
       "<div>\n",
       "<style scoped>\n",
       "    .dataframe tbody tr th:only-of-type {\n",
       "        vertical-align: middle;\n",
       "    }\n",
       "\n",
       "    .dataframe tbody tr th {\n",
       "        vertical-align: top;\n",
       "    }\n",
       "\n",
       "    .dataframe thead th {\n",
       "        text-align: right;\n",
       "    }\n",
       "</style>\n",
       "<table border=\"1\" class=\"dataframe\">\n",
       "  <thead>\n",
       "    <tr style=\"text-align: right;\">\n",
       "      <th></th>\n",
       "      <th>primaryid</th>\n",
       "      <th>caseid</th>\n",
       "      <th>age</th>\n",
       "      <th>sex</th>\n",
       "      <th>drugname</th>\n",
       "      <th>pt</th>\n",
       "    </tr>\n",
       "  </thead>\n",
       "  <tbody>\n",
       "    <tr>\n",
       "      <th>0</th>\n",
       "      <td>100244892</td>\n",
       "      <td>10024489</td>\n",
       "      <td>57.0</td>\n",
       "      <td>F</td>\n",
       "      <td>LYRICA</td>\n",
       "      <td>Arthritis</td>\n",
       "    </tr>\n",
       "    <tr>\n",
       "      <th>1</th>\n",
       "      <td>100244892</td>\n",
       "      <td>10024489</td>\n",
       "      <td>57.0</td>\n",
       "      <td>F</td>\n",
       "      <td>LYRICA</td>\n",
       "      <td>Balance disorder</td>\n",
       "    </tr>\n",
       "    <tr>\n",
       "      <th>2</th>\n",
       "      <td>100244892</td>\n",
       "      <td>10024489</td>\n",
       "      <td>57.0</td>\n",
       "      <td>F</td>\n",
       "      <td>LYRICA</td>\n",
       "      <td>Foot deformity</td>\n",
       "    </tr>\n",
       "    <tr>\n",
       "      <th>3</th>\n",
       "      <td>100244892</td>\n",
       "      <td>10024489</td>\n",
       "      <td>57.0</td>\n",
       "      <td>F</td>\n",
       "      <td>LYRICA</td>\n",
       "      <td>Intentional product misuse</td>\n",
       "    </tr>\n",
       "    <tr>\n",
       "      <th>4</th>\n",
       "      <td>100244892</td>\n",
       "      <td>10024489</td>\n",
       "      <td>57.0</td>\n",
       "      <td>F</td>\n",
       "      <td>LYRICA</td>\n",
       "      <td>Ligament sprain</td>\n",
       "    </tr>\n",
       "  </tbody>\n",
       "</table>\n",
       "</div>"
      ],
      "text/plain": [
       "   primaryid    caseid   age sex drugname                          pt\n",
       "0  100244892  10024489  57.0   F   LYRICA                   Arthritis\n",
       "1  100244892  10024489  57.0   F   LYRICA            Balance disorder\n",
       "2  100244892  10024489  57.0   F   LYRICA              Foot deformity\n",
       "3  100244892  10024489  57.0   F   LYRICA  Intentional product misuse\n",
       "4  100244892  10024489  57.0   F   LYRICA             Ligament sprain"
      ]
     },
     "execution_count": 33,
     "metadata": {},
     "output_type": "execute_result"
    }
   ],
   "source": [
    "# check first few records\n",
    "faers_data.head()"
   ]
  },
  {
   "cell_type": "code",
   "execution_count": 34,
   "metadata": {},
   "outputs": [
    {
     "data": {
      "text/plain": [
       "(226427, 6)"
      ]
     },
     "execution_count": 34,
     "metadata": {},
     "output_type": "execute_result"
    }
   ],
   "source": [
    "# check dimension\n",
    "faers_data.shape"
   ]
  },
  {
   "cell_type": "code",
   "execution_count": 35,
   "metadata": {},
   "outputs": [
    {
     "data": {
      "text/plain": [
       "primaryid      int64\n",
       "caseid         int64\n",
       "age          float64\n",
       "sex           object\n",
       "drugname      object\n",
       "pt            object\n",
       "dtype: object"
      ]
     },
     "execution_count": 35,
     "metadata": {},
     "output_type": "execute_result"
    }
   ],
   "source": [
    "# datatypes\n",
    "faers_data.dtypes"
   ]
  },
  {
   "cell_type": "code",
   "execution_count": 36,
   "metadata": {},
   "outputs": [
    {
     "data": {
      "text/html": [
       "<div>\n",
       "<style scoped>\n",
       "    .dataframe tbody tr th:only-of-type {\n",
       "        vertical-align: middle;\n",
       "    }\n",
       "\n",
       "    .dataframe tbody tr th {\n",
       "        vertical-align: top;\n",
       "    }\n",
       "\n",
       "    .dataframe thead th {\n",
       "        text-align: right;\n",
       "    }\n",
       "</style>\n",
       "<table border=\"1\" class=\"dataframe\">\n",
       "  <thead>\n",
       "    <tr style=\"text-align: right;\">\n",
       "      <th></th>\n",
       "      <th>count</th>\n",
       "      <th>unique</th>\n",
       "      <th>top</th>\n",
       "      <th>freq</th>\n",
       "      <th>mean</th>\n",
       "      <th>std</th>\n",
       "      <th>min</th>\n",
       "      <th>25%</th>\n",
       "      <th>50%</th>\n",
       "      <th>75%</th>\n",
       "      <th>max</th>\n",
       "    </tr>\n",
       "  </thead>\n",
       "  <tbody>\n",
       "    <tr>\n",
       "      <th>primaryid</th>\n",
       "      <td>226427.0</td>\n",
       "      <td>NaN</td>\n",
       "      <td>NaN</td>\n",
       "      <td>NaN</td>\n",
       "      <td>277405646.388584</td>\n",
       "      <td>357569228.170606</td>\n",
       "      <td>63910632.0</td>\n",
       "      <td>154627665.0</td>\n",
       "      <td>161410644.0</td>\n",
       "      <td>167325443.0</td>\n",
       "      <td>1688095311.0</td>\n",
       "    </tr>\n",
       "    <tr>\n",
       "      <th>caseid</th>\n",
       "      <td>226427.0</td>\n",
       "      <td>NaN</td>\n",
       "      <td>NaN</td>\n",
       "      <td>NaN</td>\n",
       "      <td>15314969.306576</td>\n",
       "      <td>1753554.412448</td>\n",
       "      <td>6391063.0</td>\n",
       "      <td>14735225.0</td>\n",
       "      <td>15943146.0</td>\n",
       "      <td>16451519.0</td>\n",
       "      <td>17267527.0</td>\n",
       "    </tr>\n",
       "    <tr>\n",
       "      <th>age</th>\n",
       "      <td>226427.0</td>\n",
       "      <td>NaN</td>\n",
       "      <td>NaN</td>\n",
       "      <td>NaN</td>\n",
       "      <td>660.450825</td>\n",
       "      <td>3606.365337</td>\n",
       "      <td>0.0</td>\n",
       "      <td>51.0</td>\n",
       "      <td>61.0</td>\n",
       "      <td>70.0</td>\n",
       "      <td>33165.0</td>\n",
       "    </tr>\n",
       "    <tr>\n",
       "      <th>sex</th>\n",
       "      <td>226427</td>\n",
       "      <td>6</td>\n",
       "      <td>F</td>\n",
       "      <td>159999</td>\n",
       "      <td>NaN</td>\n",
       "      <td>NaN</td>\n",
       "      <td>NaN</td>\n",
       "      <td>NaN</td>\n",
       "      <td>NaN</td>\n",
       "      <td>NaN</td>\n",
       "      <td>NaN</td>\n",
       "    </tr>\n",
       "    <tr>\n",
       "      <th>drugname</th>\n",
       "      <td>226427</td>\n",
       "      <td>3</td>\n",
       "      <td>GABAPENTIN</td>\n",
       "      <td>117657</td>\n",
       "      <td>NaN</td>\n",
       "      <td>NaN</td>\n",
       "      <td>NaN</td>\n",
       "      <td>NaN</td>\n",
       "      <td>NaN</td>\n",
       "      <td>NaN</td>\n",
       "      <td>NaN</td>\n",
       "    </tr>\n",
       "    <tr>\n",
       "      <th>pt</th>\n",
       "      <td>226427</td>\n",
       "      <td>5520</td>\n",
       "      <td>Pain</td>\n",
       "      <td>4438</td>\n",
       "      <td>NaN</td>\n",
       "      <td>NaN</td>\n",
       "      <td>NaN</td>\n",
       "      <td>NaN</td>\n",
       "      <td>NaN</td>\n",
       "      <td>NaN</td>\n",
       "      <td>NaN</td>\n",
       "    </tr>\n",
       "  </tbody>\n",
       "</table>\n",
       "</div>"
      ],
      "text/plain": [
       "              count unique         top    freq              mean  \\\n",
       "primaryid  226427.0    NaN         NaN     NaN  277405646.388584   \n",
       "caseid     226427.0    NaN         NaN     NaN   15314969.306576   \n",
       "age        226427.0    NaN         NaN     NaN        660.450825   \n",
       "sex          226427      6           F  159999               NaN   \n",
       "drugname     226427      3  GABAPENTIN  117657               NaN   \n",
       "pt           226427   5520        Pain    4438               NaN   \n",
       "\n",
       "                        std         min          25%          50%  \\\n",
       "primaryid  357569228.170606  63910632.0  154627665.0  161410644.0   \n",
       "caseid       1753554.412448   6391063.0   14735225.0   15943146.0   \n",
       "age             3606.365337         0.0         51.0         61.0   \n",
       "sex                     NaN         NaN          NaN          NaN   \n",
       "drugname                NaN         NaN          NaN          NaN   \n",
       "pt                      NaN         NaN          NaN          NaN   \n",
       "\n",
       "                   75%           max  \n",
       "primaryid  167325443.0  1688095311.0  \n",
       "caseid      16451519.0    17267527.0  \n",
       "age               70.0       33165.0  \n",
       "sex                NaN           NaN  \n",
       "drugname           NaN           NaN  \n",
       "pt                 NaN           NaN  "
      ]
     },
     "execution_count": 36,
     "metadata": {},
     "output_type": "execute_result"
    }
   ],
   "source": [
    "# descriptive statistics\n",
    "faers_data.describe(include=\"all\").T"
   ]
  },
  {
   "cell_type": "code",
   "execution_count": 37,
   "metadata": {},
   "outputs": [
    {
     "name": "stdout",
     "output_type": "stream",
     "text": [
      "<class 'pandas.core.frame.DataFrame'>\n",
      "RangeIndex: 226427 entries, 0 to 226426\n",
      "Data columns (total 6 columns):\n",
      " #   Column     Non-Null Count   Dtype  \n",
      "---  ------     --------------   -----  \n",
      " 0   primaryid  226427 non-null  int64  \n",
      " 1   caseid     226427 non-null  int64  \n",
      " 2   age        226427 non-null  float64\n",
      " 3   sex        226427 non-null  object \n",
      " 4   drugname   226427 non-null  object \n",
      " 5   pt         226427 non-null  object \n",
      "dtypes: float64(1), int64(2), object(3)\n",
      "memory usage: 10.4+ MB\n"
     ]
    }
   ],
   "source": [
    "# concise info\n",
    "faers_data.info()"
   ]
  },
  {
   "cell_type": "code",
   "execution_count": 38,
   "metadata": {},
   "outputs": [
    {
     "data": {
      "text/plain": [
       "(226399, 6)"
      ]
     },
     "execution_count": 38,
     "metadata": {},
     "output_type": "execute_result"
    }
   ],
   "source": [
    "# considering data for males and females only for EDA and ingoring other records in column \"sex\"\n",
    "faers_data = faers_data[(faers_data['sex']==\"M\") | (faers_data['sex']==\"F\")]\n",
    "faers_data.shape"
   ]
  },
  {
   "cell_type": "markdown",
   "metadata": {},
   "source": [
    "### Exploratory Data Analysis (EDA)"
   ]
  },
  {
   "cell_type": "code",
   "execution_count": 39,
   "metadata": {},
   "outputs": [
    {
     "name": "stdout",
     "output_type": "stream",
     "text": [
      "TRAMAL DATASET: (2858, 6)\n",
      "LYRICA DATASET: (105907, 6)\n",
      "GABAPENTIN DATASET: (117634, 6)\n"
     ]
    }
   ],
   "source": [
    "# first we will create 3 dataset that corresponds to each drugs under analysis\n",
    "TRAMAL = faers_data[faers_data['drugname']==\"TRAMAL\"]\n",
    "LYRICA = faers_data[faers_data['drugname']==\"LYRICA\"]\n",
    "GABAPENTIN = faers_data[faers_data['drugname']==\"GABAPENTIN\"]\n",
    "\n",
    "# check the dimensions of each datasets\n",
    "print(\"TRAMAL DATASET:\", TRAMAL.shape)\n",
    "print(\"LYRICA DATASET:\", LYRICA.shape)\n",
    "print(\"GABAPENTIN DATASET:\", GABAPENTIN.shape)"
   ]
  },
  {
   "cell_type": "code",
   "execution_count": 40,
   "metadata": {},
   "outputs": [
    {
     "data": {
      "text/html": [
       "<div>\n",
       "<style scoped>\n",
       "    .dataframe tbody tr th:only-of-type {\n",
       "        vertical-align: middle;\n",
       "    }\n",
       "\n",
       "    .dataframe tbody tr th {\n",
       "        vertical-align: top;\n",
       "    }\n",
       "\n",
       "    .dataframe thead th {\n",
       "        text-align: right;\n",
       "    }\n",
       "</style>\n",
       "<table border=\"1\" class=\"dataframe\">\n",
       "  <thead>\n",
       "    <tr style=\"text-align: right;\">\n",
       "      <th></th>\n",
       "      <th>pt</th>\n",
       "      <th>counts</th>\n",
       "    </tr>\n",
       "  </thead>\n",
       "  <tbody>\n",
       "    <tr>\n",
       "      <th>522</th>\n",
       "      <td>Nausea</td>\n",
       "      <td>52</td>\n",
       "    </tr>\n",
       "    <tr>\n",
       "      <th>643</th>\n",
       "      <td>Pyrexia</td>\n",
       "      <td>41</td>\n",
       "    </tr>\n",
       "    <tr>\n",
       "      <th>2</th>\n",
       "      <td>Abdominal pain</td>\n",
       "      <td>35</td>\n",
       "    </tr>\n",
       "    <tr>\n",
       "      <th>196</th>\n",
       "      <td>Diarrhoea</td>\n",
       "      <td>31</td>\n",
       "    </tr>\n",
       "    <tr>\n",
       "      <th>601</th>\n",
       "      <td>Pneumonia</td>\n",
       "      <td>28</td>\n",
       "    </tr>\n",
       "    <tr>\n",
       "      <th>794</th>\n",
       "      <td>White blood cell count increased</td>\n",
       "      <td>26</td>\n",
       "    </tr>\n",
       "    <tr>\n",
       "      <th>381</th>\n",
       "      <td>Ileus</td>\n",
       "      <td>25</td>\n",
       "    </tr>\n",
       "    <tr>\n",
       "      <th>1</th>\n",
       "      <td>Abdominal distension</td>\n",
       "      <td>25</td>\n",
       "    </tr>\n",
       "    <tr>\n",
       "      <th>183</th>\n",
       "      <td>Dementia</td>\n",
       "      <td>24</td>\n",
       "    </tr>\n",
       "    <tr>\n",
       "      <th>789</th>\n",
       "      <td>Vomiting</td>\n",
       "      <td>24</td>\n",
       "    </tr>\n",
       "  </tbody>\n",
       "</table>\n",
       "</div>"
      ],
      "text/plain": [
       "                                   pt  counts\n",
       "522                            Nausea      52\n",
       "643                           Pyrexia      41\n",
       "2                      Abdominal pain      35\n",
       "196                         Diarrhoea      31\n",
       "601                         Pneumonia      28\n",
       "794  White blood cell count increased      26\n",
       "381                             Ileus      25\n",
       "1                Abdominal distension      25\n",
       "183                          Dementia      24\n",
       "789                          Vomiting      24"
      ]
     },
     "execution_count": 40,
     "metadata": {},
     "output_type": "execute_result"
    }
   ],
   "source": [
    "# TOP 10 effects of mentioned drugs\n",
    "\n",
    "# TRAMAL\n",
    "TOP10_TRAMAL = TRAMAL.groupby(['pt']).size().reset_index().rename(columns={0:\"counts\"}).sort_values(ascending=False, by=\"counts\").head(10)\n",
    "TOP10_TRAMAL"
   ]
  },
  {
   "cell_type": "code",
   "execution_count": 41,
   "metadata": {},
   "outputs": [
    {
     "data": {
      "text/html": [
       "<div>\n",
       "<style scoped>\n",
       "    .dataframe tbody tr th:only-of-type {\n",
       "        vertical-align: middle;\n",
       "    }\n",
       "\n",
       "    .dataframe tbody tr th {\n",
       "        vertical-align: top;\n",
       "    }\n",
       "\n",
       "    .dataframe thead th {\n",
       "        text-align: right;\n",
       "    }\n",
       "</style>\n",
       "<table border=\"1\" class=\"dataframe\">\n",
       "  <thead>\n",
       "    <tr style=\"text-align: right;\">\n",
       "      <th></th>\n",
       "      <th>pt</th>\n",
       "      <th>counts</th>\n",
       "    </tr>\n",
       "  </thead>\n",
       "  <tbody>\n",
       "    <tr>\n",
       "      <th>2542</th>\n",
       "      <td>Pain</td>\n",
       "      <td>3136</td>\n",
       "    </tr>\n",
       "    <tr>\n",
       "      <th>1012</th>\n",
       "      <td>Drug ineffective</td>\n",
       "      <td>2437</td>\n",
       "    </tr>\n",
       "    <tr>\n",
       "      <th>2123</th>\n",
       "      <td>Malaise</td>\n",
       "      <td>2088</td>\n",
       "    </tr>\n",
       "    <tr>\n",
       "      <th>2470</th>\n",
       "      <td>Off label use</td>\n",
       "      <td>2018</td>\n",
       "    </tr>\n",
       "    <tr>\n",
       "      <th>2543</th>\n",
       "      <td>Pain in extremity</td>\n",
       "      <td>1345</td>\n",
       "    </tr>\n",
       "    <tr>\n",
       "      <th>1847</th>\n",
       "      <td>Insomnia</td>\n",
       "      <td>1311</td>\n",
       "    </tr>\n",
       "    <tr>\n",
       "      <th>1281</th>\n",
       "      <td>Feeling abnormal</td>\n",
       "      <td>1281</td>\n",
       "    </tr>\n",
       "    <tr>\n",
       "      <th>3757</th>\n",
       "      <td>Withdrawal syndrome</td>\n",
       "      <td>1236</td>\n",
       "    </tr>\n",
       "    <tr>\n",
       "      <th>1268</th>\n",
       "      <td>Fatigue</td>\n",
       "      <td>1211</td>\n",
       "    </tr>\n",
       "    <tr>\n",
       "      <th>1857</th>\n",
       "      <td>Intentional product misuse</td>\n",
       "      <td>1205</td>\n",
       "    </tr>\n",
       "  </tbody>\n",
       "</table>\n",
       "</div>"
      ],
      "text/plain": [
       "                              pt  counts\n",
       "2542                        Pain    3136\n",
       "1012            Drug ineffective    2437\n",
       "2123                     Malaise    2088\n",
       "2470               Off label use    2018\n",
       "2543           Pain in extremity    1345\n",
       "1847                    Insomnia    1311\n",
       "1281            Feeling abnormal    1281\n",
       "3757         Withdrawal syndrome    1236\n",
       "1268                     Fatigue    1211\n",
       "1857  Intentional product misuse    1205"
      ]
     },
     "execution_count": 41,
     "metadata": {},
     "output_type": "execute_result"
    }
   ],
   "source": [
    "# LYRICA\n",
    "TOP10_LYRICA = LYRICA.groupby(['pt']).size().reset_index().rename(columns={0:\"counts\"}).sort_values(ascending=False, by=\"counts\").head(10)\n",
    "TOP10_LYRICA"
   ]
  },
  {
   "cell_type": "code",
   "execution_count": 42,
   "metadata": {},
   "outputs": [
    {
     "data": {
      "text/html": [
       "<div>\n",
       "<style scoped>\n",
       "    .dataframe tbody tr th:only-of-type {\n",
       "        vertical-align: middle;\n",
       "    }\n",
       "\n",
       "    .dataframe tbody tr th {\n",
       "        vertical-align: top;\n",
       "    }\n",
       "\n",
       "    .dataframe thead th {\n",
       "        text-align: right;\n",
       "    }\n",
       "</style>\n",
       "<table border=\"1\" class=\"dataframe\">\n",
       "  <thead>\n",
       "    <tr style=\"text-align: right;\">\n",
       "      <th></th>\n",
       "      <th>pt</th>\n",
       "      <th>counts</th>\n",
       "    </tr>\n",
       "  </thead>\n",
       "  <tbody>\n",
       "    <tr>\n",
       "      <th>877</th>\n",
       "      <td>Chronic kidney disease</td>\n",
       "      <td>2435</td>\n",
       "    </tr>\n",
       "    <tr>\n",
       "      <th>1246</th>\n",
       "      <td>Drug ineffective</td>\n",
       "      <td>1938</td>\n",
       "    </tr>\n",
       "    <tr>\n",
       "      <th>68</th>\n",
       "      <td>Acute kidney injury</td>\n",
       "      <td>1839</td>\n",
       "    </tr>\n",
       "    <tr>\n",
       "      <th>1245</th>\n",
       "      <td>Drug hypersensitivity</td>\n",
       "      <td>1762</td>\n",
       "    </tr>\n",
       "    <tr>\n",
       "      <th>1524</th>\n",
       "      <td>Fatigue</td>\n",
       "      <td>1758</td>\n",
       "    </tr>\n",
       "    <tr>\n",
       "      <th>2981</th>\n",
       "      <td>Off label use</td>\n",
       "      <td>1579</td>\n",
       "    </tr>\n",
       "    <tr>\n",
       "      <th>3647</th>\n",
       "      <td>Renal failure</td>\n",
       "      <td>1525</td>\n",
       "    </tr>\n",
       "    <tr>\n",
       "      <th>2828</th>\n",
       "      <td>Nausea</td>\n",
       "      <td>1508</td>\n",
       "    </tr>\n",
       "    <tr>\n",
       "      <th>3076</th>\n",
       "      <td>Pain</td>\n",
       "      <td>1289</td>\n",
       "    </tr>\n",
       "    <tr>\n",
       "      <th>1845</th>\n",
       "      <td>Headache</td>\n",
       "      <td>1222</td>\n",
       "    </tr>\n",
       "  </tbody>\n",
       "</table>\n",
       "</div>"
      ],
      "text/plain": [
       "                          pt  counts\n",
       "877   Chronic kidney disease    2435\n",
       "1246        Drug ineffective    1938\n",
       "68       Acute kidney injury    1839\n",
       "1245   Drug hypersensitivity    1762\n",
       "1524                 Fatigue    1758\n",
       "2981           Off label use    1579\n",
       "3647           Renal failure    1525\n",
       "2828                  Nausea    1508\n",
       "3076                    Pain    1289\n",
       "1845                Headache    1222"
      ]
     },
     "execution_count": 42,
     "metadata": {},
     "output_type": "execute_result"
    }
   ],
   "source": [
    "# GABAPENTIN\n",
    "TOP10_GABAPENTIN = GABAPENTIN.groupby(['pt']).size().reset_index().rename(columns={0:\"counts\"}).sort_values(ascending=False, by=\"counts\").head(10)\n",
    "TOP10_GABAPENTIN"
   ]
  },
  {
   "cell_type": "code",
   "execution_count": 43,
   "metadata": {},
   "outputs": [
    {
     "data": {
      "image/png": "[encoded data removed]",
      "text/plain": [
       "<Figure size 1500x400 with 3 Axes>"
      ]
     },
     "metadata": {},
     "output_type": "display_data"
    }
   ],
   "source": [
    "# let's visualize above data\n",
    "plt.figure(figsize=(15,4))\n",
    "\n",
    "# TRAMAL\n",
    "ax1 = plt.subplot2grid((1,3), (0,0))\n",
    "sns.barplot(y=\"pt\", x='counts', data=TOP10_TRAMAL, ax=ax1)\n",
    "for i in ax1.containers:\n",
    "    ax1.bar_label(i)\n",
    "plt.ylabel(\"Effect\")\n",
    "plt.title(\"Top 10 TRAMAL Effects\")\n",
    "\n",
    "# LYRICA\n",
    "ax2 = plt.subplot2grid((1,3), (0,1))\n",
    "sns.barplot(y=\"pt\", x='counts', data=TOP10_LYRICA, ax=ax2)\n",
    "for i in ax2.containers:\n",
    "    ax2.bar_label(i)\n",
    "plt.ylabel(\"Effect\")\n",
    "plt.title(\"Top 10 LYRICA Effects\")\n",
    "\n",
    "# GABAPENTIN\n",
    "ax3 = plt.subplot2grid((1,3), (0,2))\n",
    "sns.barplot(y=\"pt\", x='counts', data=TOP10_GABAPENTIN, ax=ax3)\n",
    "for i in ax3.containers:\n",
    "    ax3.bar_label(i)\n",
    "plt.ylabel(\"Effect\")\n",
    "plt.title(\"Top 10 GABAPENTIN Effects\")\n",
    "\n",
    "\n",
    "plt.tight_layout()\n",
    "plt.show()\n"
   ]
  }
 ],
 "metadata": {
  "kernelspec": {
   "display_name": "Deep_Learning",
   "language": "python",
   "name": "python3"
  },
  "language_info": {
   "codemirror_mode": {
    "name": "ipython",
    "version": 3
   },
   "file_extension": ".py",
   "mimetype": "text/x-python",
   "name": "python",
   "nbconvert_exporter": "python",
   "pygments_lexer": "ipython3",
   "version": "3.9.18"
  }
 },
 "nbformat": 4,
 "nbformat_minor": 2
}
